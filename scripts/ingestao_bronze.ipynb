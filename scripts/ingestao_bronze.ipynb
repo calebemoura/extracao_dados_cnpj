{
 "cells": [
  {
   "cell_type": "code",
   "execution_count": 0,
   "metadata": {
    "application/vnd.databricks.v1+cell": {
     "cellMetadata": {
      "byteLimit": 2048000,
      "rowLimit": 10000
     },
     "inputWidgets": {},
     "nuid": "f6ec9d35-cda0-4d1f-8a4f-491a67c3a699",
     "showTitle": false,
     "tableResultSettingsMap": {},
     "title": ""
    }
   },
   "outputs": [],
   "source": [
    "from libs.rename_columns import *\n",
    "from libs.create_table import create_table"
   ]
  },
  {
   "cell_type": "code",
   "execution_count": 0,
   "metadata": {
    "application/vnd.databricks.v1+cell": {
     "cellMetadata": {
      "byteLimit": 2048000,
      "rowLimit": 10000
     },
     "inputWidgets": {},
     "nuid": "b37ff6d4-dab2-4f56-8da7-544559d8ad15",
     "showTitle": false,
     "tableResultSettingsMap": {},
     "title": ""
    }
   },
   "outputs": [],
   "source": [
    "path_source = '/Volumes/landing/raw/rfb_cnpj'\n",
    "catalog = 'projeto_rfb'\n",
    "schema  = 'bronze'\n",
    "tables  = ['cnaes', 'empresas', 'estabelecimentos', 'socios', 'motivos', 'municipios', 'naturezas', 'paises', 'qualificacoes', 'simples']"
   ]
  },
  {
   "cell_type": "code",
   "execution_count": 0,
   "metadata": {
    "application/vnd.databricks.v1+cell": {
     "cellMetadata": {
      "byteLimit": 2048000,
      "rowLimit": 10000
     },
     "inputWidgets": {},
     "nuid": "e0c14c81-e227-4d21-9345-e7a5bee32ebf",
     "showTitle": false,
     "tableResultSettingsMap": {},
     "title": ""
    }
   },
   "outputs": [],
   "source": [
    "for table in tables:\n",
    "    # Criando tabela se ela não existir\n",
    "    create_table(\n",
    "        spark=spark, \n",
    "        catalog=catalog, \n",
    "        schema=schema, \n",
    "        table=table\n",
    "    )\n",
    "\n",
    "    # realizando a leitura dos arquivos e criando um df spark\n",
    "    df = (spark.read\n",
    "        .option('delimiter', ';')\n",
    "        .option('header', False)\n",
    "        .option('inferSchema', False)\n",
    "        .option('encoding', 'latin1')\n",
    "        .csv(f\"{path_source}/{table}*\")\n",
    "    )\n",
    "\n",
    "    table_columns = eval(table)\n",
    "    # Renomear as colunas\n",
    "    for old, new in table_columns.items():\n",
    "        df = df.withColumnRenamed(old, new)\n",
    "\n",
    "    # Escrevendo em formato delta\n",
    "    (df.write\n",
    "        .mode('overwrite')\n",
    "        .format('delta')\n",
    "        .option(\"mergeSchema\", \"true\")\n",
    "        .saveAsTable(f\"{catalog}.{schema}.{table}\")\n",
    "    )\n",
    "\n",
    "    print(f\"{table} populada com sucesso\")\n",
    "\n",
    "# Limpando os arquivos da pasta\n",
    "list_folders = dbutils.fs.ls(path_source)\n",
    "for file in list_folders:\n",
    "    if file.name != 'temp/':\n",
    "        dbutils.fs.rm(f\"{path_source}/{file.name}\", True)\n"
   ]
  }
 ],
 "metadata": {
  "application/vnd.databricks.v1+notebook": {
   "computePreferences": {
    "hardware": {
     "accelerator": null,
     "gpuPoolId": null,
     "memory": null
    }
   },
   "dashboards": [],
   "environmentMetadata": {
    "base_environment": "",
    "environment_version": "3"
   },
   "inputWidgetPreferences": null,
   "language": "python",
   "notebookMetadata": {
    "pythonIndentUnit": 4
   },
   "notebookName": "ingestao_bronze",
   "widgets": {}
  },
  "language_info": {
   "name": "python"
  }
 },
 "nbformat": 4,
 "nbformat_minor": 0
}

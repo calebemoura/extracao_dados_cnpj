{
 "cells": [
  {
   "cell_type": "code",
   "execution_count": 0,
   "metadata": {
    "application/vnd.databricks.v1+cell": {
     "cellMetadata": {
      "byteLimit": 2048000,
      "rowLimit": 10000
     },
     "inputWidgets": {},
     "nuid": "ada1670b-4bc3-4812-8eb8-8672f882a3fa",
     "showTitle": false,
     "tableResultSettingsMap": {},
     "title": ""
    }
   },
   "outputs": [],
   "source": [
    "# Instalando o lxml para processamento do HTML\n",
    "%pip install lxml==6.0.1"
   ]
  },
  {
   "cell_type": "code",
   "execution_count": 0,
   "metadata": {
    "application/vnd.databricks.v1+cell": {
     "cellMetadata": {
      "byteLimit": 2048000,
      "rowLimit": 10000
     },
     "inputWidgets": {},
     "nuid": "46e05fce-6f82-4c19-9ed8-4d3da2b407e8",
     "showTitle": false,
     "tableResultSettingsMap": {},
     "title": ""
    }
   },
   "outputs": [],
   "source": [
    "# Importação das bibliotecas necessárias\n",
    "from requests import get\n",
    "from lxml import etree\n",
    "from urllib.request import urlretrieve\n",
    "from datetime import datetime\n",
    "from zipfile import ZipFile\n",
    "\n",
    "myparser = etree.HTMLParser(encoding='utf-8')"
   ]
  },
  {
   "cell_type": "code",
   "execution_count": 0,
   "metadata": {
    "application/vnd.databricks.v1+cell": {
     "cellMetadata": {
      "byteLimit": 2048000,
      "rowLimit": 10000
     },
     "inputWidgets": {},
     "nuid": "75b94e49-dbc3-4477-8714-7de5cb6a15ce",
     "showTitle": false,
     "tableResultSettingsMap": {},
     "title": ""
    }
   },
   "outputs": [],
   "source": [
    "\n",
    "# Caminhos onde os arquivos serão baixados e descompactados\n",
    "path_souce = '/Volumes/landing/raw/rfb_cnpj/temp'  # arquivos compactados zip\n",
    "path_destination = '/Volumes/landing/raw/rfb_cnpj' # Arquivos descompactados\n",
    "\n",
    "url_base = 'https://arquivos.receitafederal.gov.br/dados/cnpj/dados_abertos_cnpj/'\n",
    "mes = datetime.today().strftime('%Y-%m')\n",
    "\n",
    "# Realizando a requisição\n",
    "requisicao = get(f\"{url_base}{mes}\")\n",
    "if requisicao.status_code != 200:\n",
    "    print('Arquivos ainda não disponíveis')\n",
    "else:\n",
    "    html = requisicao.content"
   ]
  },
  {
   "cell_type": "code",
   "execution_count": 0,
   "metadata": {
    "application/vnd.databricks.v1+cell": {
     "cellMetadata": {},
     "inputWidgets": {},
     "nuid": "27813118-2c40-445a-8b17-97677bd116f8",
     "showTitle": false,
     "tableResultSettingsMap": {},
     "title": ""
    }
   },
   "outputs": [],
   "source": [
    "# Processando o HTML e buscando os arquivos zip\n",
    "tree = etree.HTML(html, parser=myparser)\n",
    "\n",
    "for link in tree.xpath('//table'):\n",
    "    folders = [f for f in link.xpath('./tr/td/a/@href') if f.endswith('.zip')]"
   ]
  },
  {
   "cell_type": "code",
   "execution_count": 0,
   "metadata": {
    "application/vnd.databricks.v1+cell": {
     "cellMetadata": {},
     "inputWidgets": {},
     "nuid": "a31ee81e-2c18-4405-8095-0ea750073ea7",
     "showTitle": false,
     "tableResultSettingsMap": {},
     "title": ""
    }
   },
   "outputs": [],
   "source": [
    "\n",
    "# Realizando o download dos arquivos\n",
    "for folder in folders:\n",
    "    url = f\"{url_base}{mes}/{folder}\"\n",
    "    print(url)\n",
    "    urlretrieve(url, f\"{path_souce}/{folder}\")"
   ]
  },
  {
   "cell_type": "code",
   "execution_count": 0,
   "metadata": {
    "application/vnd.databricks.v1+cell": {
     "cellMetadata": {
      "byteLimit": 2048000,
      "rowLimit": 10000
     },
     "inputWidgets": {},
     "nuid": "663cc5b7-6f11-46f0-bf49-0523b0b179c6",
     "showTitle": false,
     "tableResultSettingsMap": {},
     "title": ""
    }
   },
   "outputs": [],
   "source": [
    "paths = dbutils.fs.ls(path_souce)\n",
    "\n",
    "# Descompactando os arquivos\n",
    "for path in paths:\n",
    "    with ZipFile(f\"{path_souce}/{path.name}\", 'r') as zipObj:\n",
    "        zipObj.extractall(f\"{path_destination}/{path.name.split('.')[0].lower()}\")\n",
    "\n",
    "    # Excluindo os arquivos compactados logo após descompactação\n",
    "    dbutils.fs.rm(f\"{path_souce}/{path.name}\", True)\n",
    "\n"
   ]
  }
 ],
 "metadata": {
  "application/vnd.databricks.v1+notebook": {
   "computePreferences": {
    "hardware": {
     "accelerator": null,
     "gpuPoolId": null,
     "memory": null
    }
   },
   "dashboards": [],
   "environmentMetadata": {
    "base_environment": "",
    "environment_version": "3"
   },
   "inputWidgetPreferences": null,
   "language": "python",
   "notebookMetadata": {
    "pythonIndentUnit": 4
   },
   "notebookName": "extracao_dados_brutos",
   "widgets": {}
  },
  "language_info": {
   "name": "python"
  }
 },
 "nbformat": 4,
 "nbformat_minor": 0
}

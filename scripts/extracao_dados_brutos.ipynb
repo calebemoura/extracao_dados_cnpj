{
 "cells": [
  {
   "cell_type": "code",
   "execution_count": 0,
   "metadata": {
    "application/vnd.databricks.v1+cell": {
     "cellMetadata": {
      "byteLimit": 2048000,
      "rowLimit": 10000
     },
     "inputWidgets": {},
     "nuid": "ada1670b-4bc3-4812-8eb8-8672f882a3fa",
     "showTitle": false,
     "tableResultSettingsMap": {},
     "title": ""
    }
   },
   "outputs": [],
   "source": [
    "# Instalando o lxml para processamento do HTML\n",
    "%pip install lxml==6.0.1"
   ]
  },
  {
   "cell_type": "code",
   "execution_count": 0,
   "metadata": {
    "application/vnd.databricks.v1+cell": {
     "cellMetadata": {
      "byteLimit": 2048000,
      "rowLimit": 10000
     },
     "inputWidgets": {},
     "nuid": "46e05fce-6f82-4c19-9ed8-4d3da2b407e8",
     "showTitle": false,
     "tableResultSettingsMap": {},
     "title": ""
    }
   },
   "outputs": [],
   "source": [
    "# Importação das bibliotecas necessárias\n",
    "from requests import get\n",
    "from lxml import etree\n",
    "from urllib.request import urlretrieve\n",
    "from datetime import datetime, timedelta\n",
    "from zipfile import ZipFile\n",
    "\n",
    "myparser = etree.HTMLParser(encoding='utf-8')"
   ]
  },
  {
   "cell_type": "code",
   "execution_count": 0,
   "metadata": {
    "application/vnd.databricks.v1+cell": {
     "cellMetadata": {
      "byteLimit": 2048000,
      "rowLimit": 10000
     },
     "inputWidgets": {},
     "nuid": "168f178e-56e5-46a2-a50c-6a9a9d40c5a0",
     "showTitle": false,
     "tableResultSettingsMap": {},
     "title": ""
    }
   },
   "outputs": [],
   "source": [
    "def processamento_html(html):\n",
    "    # Processando o HTML e buscando os arquivos zip\n",
    "    tree = etree.HTML(html, parser=myparser)\n",
    "    for link in tree.xpath('//table'):\n",
    "        folders = [f for f in link.xpath('./tr/td/a/@href') if f.endswith('.zip')]\n",
    "    return folders\n",
    "\n",
    "def download_folders(url_base, mes, folders):\n",
    "    # Realizando o download dos arquivos\n",
    "    for folder in folders:\n",
    "        url = f\"{url_base}{mes}/{folder}\"\n",
    "        print(url)\n",
    "        urlretrieve(url, f\"{path_souce}/{folder}\")\n",
    "\n",
    "def unzip_files(path_souce: str, path_destination: str):\n",
    "    paths = dbutils.fs.ls(path_souce)\n",
    "\n",
    "    # Descompactando os arquivos\n",
    "    for path in paths:\n",
    "        with ZipFile(f\"{path_souce}/{path.name}\", 'r') as zipObj:\n",
    "            zipObj.extractall(f\"{path_destination}/{path.name.split('.')[0].lower()}\")\n",
    "\n",
    "        # Excluindo os arquivos compactados logo após descompactação\n",
    "        dbutils.fs.rm(f\"{path_souce}/{path.name}\", True)"
   ]
  },
  {
   "cell_type": "code",
   "execution_count": 0,
   "metadata": {
    "application/vnd.databricks.v1+cell": {
     "cellMetadata": {
      "byteLimit": 2048000,
      "rowLimit": 10000
     },
     "inputWidgets": {},
     "nuid": "75b94e49-dbc3-4477-8714-7de5cb6a15ce",
     "showTitle": false,
     "tableResultSettingsMap": {},
     "title": ""
    }
   },
   "outputs": [],
   "source": [
    "\n",
    "# Caminhos onde os arquivos serão baixados e descompactados\n",
    "path_souce = '/Volumes/landing/raw/rfb_cnpj/temp'  # arquivos compactados zip\n",
    "path_destination = '/Volumes/landing/raw/rfb_cnpj' # Arquivos descompactados\n",
    "url_base = 'https://arquivos.receitafederal.gov.br/dados/cnpj/dados_abertos_cnpj/'\n",
    "mes = (datetime.today() - timedelta(days=10)).strftime('%Y-%m')\n",
    "\n",
    "# Realizando a requisição\n",
    "requisicao = get(f\"{url_base}{mes}\")\n",
    "\n",
    "if requisicao.status_code != 200:\n",
    "    print('Arquivos ainda não disponíveis')\n",
    "else:\n",
    "    html = requisicao.content\n",
    "    folders = processamento_html(html)\n",
    "    download_folders(url_base, mes, folders)\n",
    "    unzip_files(path_souce, path_destination)\n"
   ]
  }
 ],
 "metadata": {
  "application/vnd.databricks.v1+notebook": {
   "computePreferences": {
    "hardware": {
     "accelerator": null,
     "gpuPoolId": null,
     "memory": null
    }
   },
   "dashboards": [],
   "environmentMetadata": {
    "base_environment": "",
    "environment_version": "3"
   },
   "inputWidgetPreferences": null,
   "language": "python",
   "notebookMetadata": {
    "pythonIndentUnit": 4
   },
   "notebookName": "extracao_dados_brutos",
   "widgets": {}
  },
  "language_info": {
   "name": "python"
  }
 },
 "nbformat": 4,
 "nbformat_minor": 0
}

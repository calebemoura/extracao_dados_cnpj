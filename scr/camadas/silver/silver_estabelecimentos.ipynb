{
 "cells": [
  {
   "cell_type": "code",
   "execution_count": 0,
   "metadata": {
    "application/vnd.databricks.v1+cell": {
     "cellMetadata": {
      "byteLimit": 2048000,
      "rowLimit": 10000
     },
     "inputWidgets": {},
     "nuid": "a9693b2a-4a7b-497a-b43d-04052c54ce95",
     "showTitle": false,
     "tableResultSettingsMap": {},
     "title": ""
    }
   },
   "outputs": [],
   "source": [
    "import sys\n",
    "workspace = dbutils.widgets.get('workspace')\n",
    "sys.path.insert(0, workspace)\n",
    "\n",
    "from libs.ingestao_silver import ingestao_silver\n",
    "\n",
    "from pyspark.sql.functions import col, cast, trim, when, to_date, upper, concat"
   ]
  },
  {
   "cell_type": "code",
   "execution_count": 0,
   "metadata": {
    "application/vnd.databricks.v1+cell": {
     "cellMetadata": {
      "byteLimit": 2048000,
      "rowLimit": 10000
     },
     "inputWidgets": {},
     "nuid": "3ead5f51-211a-4150-8c43-9fe163185fb6",
     "showTitle": false,
     "tableResultSettingsMap": {},
     "title": ""
    }
   },
   "outputs": [],
   "source": [
    "catalog = 'projeto_cnpj'\n",
    "table = 'estabelecimentos'\n",
    "df = spark.table(f\"{catalog}.bronze.{table}\")\n",
    "\n",
    "df= (df\n",
    "    .withColumn('nome_fantasia', trim(upper(col('nome_fantasia'))))\n",
    "    .withColumn('correio_eletronico', trim(upper(col('correio_eletronico'))))\n",
    "    .withColumn('motivo_situacao_cadastral', col('motivo_situacao_cadastral').cast('int'))\n",
    "    .withColumn('pais', col('pais').cast('int'))\n",
    "    .withColumn('cnae_fiscal_principal', col('cnae_fiscal_principal').cast('int'))\n",
    "    .withColumn('data_situacao_cadastral', \n",
    "                when(trim(col('data_situacao_cadastral')) != '0', to_date(col('data_situacao_cadastral'), 'yyyyMMdd'))\n",
    "                .otherwise(None)\n",
    "    )\n",
    "    .withColumn('inicio_atividade', to_date(col('inicio_atividade'), 'yyyyMMdd'))\n",
    "    .withColumn('data_situacao_especial', to_date(col('data_situacao_especial'), 'yyyyMMdd'))\n",
    "    .withColumn('data_ingestao', col('data_ingestao').cast('date'))\n",
    "    .withColumn('situacao_especial', trim(upper(col('situacao_especial'))))\n",
    "    .withColumn('identificador',\n",
    "        when(trim(col('identificador')) == '1', 'Matriz')\n",
    "        .when(trim(col('identificador')) == '2', 'Filial')\n",
    "        .otherwise('Outros')\n",
    "    )\n",
    "    .withColumn('situacao_cadastral',\n",
    "        when(trim(col('situacao_cadastral')) == '08', 'Baixada')\n",
    "        .when(trim(col('situacao_cadastral')) == '02', 'Ativa')\n",
    "        .when(trim(col('situacao_cadastral')) == '03', 'Suspensa')\n",
    "        .when(trim(col('situacao_cadastral')) == '00', 'Nula')\n",
    "        .otherwise('Outros')\n",
    "    )\n",
    "    .filter(col('situacao_cadastral') != 'Outros')\n",
    ")"
   ]
  },
  {
   "cell_type": "code",
   "execution_count": 0,
   "metadata": {
    "application/vnd.databricks.v1+cell": {
     "cellMetadata": {
      "byteLimit": 2048000,
      "rowLimit": 10000
     },
     "inputWidgets": {},
     "nuid": "50d667d9-f652-4097-a075-3659f98383b6",
     "showTitle": false,
     "tableResultSettingsMap": {},
     "title": ""
    }
   },
   "outputs": [],
   "source": [
    "ingestao_silver(\n",
    "    spark = spark,\n",
    "    df = df,\n",
    "    catalog = catalog,\n",
    "    table = table\n",
    ")"
   ]
  }
 ],
 "metadata": {
  "application/vnd.databricks.v1+notebook": {
   "computePreferences": {
    "hardware": {
     "accelerator": null,
     "gpuPoolId": null,
     "memory": null
    }
   },
   "dashboards": [],
   "environmentMetadata": {
    "base_environment": "",
    "environment_version": "3"
   },
   "inputWidgetPreferences": null,
   "language": "python",
   "notebookMetadata": {
    "mostRecentlyExecutedCommandWithImplicitDF": {
     "commandId": 8059138355028773,
     "dataframes": [
      "_sqldf"
     ]
    },
    "pythonIndentUnit": 4
   },
   "notebookName": "silver_estabelecimentos",
   "widgets": {}
  },
  "language_info": {
   "name": "python"
  }
 },
 "nbformat": 4,
 "nbformat_minor": 0
}

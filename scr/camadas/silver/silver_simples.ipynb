{
 "cells": [
  {
   "cell_type": "code",
   "execution_count": 0,
   "metadata": {
    "application/vnd.databricks.v1+cell": {
     "cellMetadata": {
      "byteLimit": 2048000,
      "rowLimit": 10000
     },
     "inputWidgets": {},
     "nuid": "a9693b2a-4a7b-497a-b43d-04052c54ce95",
     "showTitle": false,
     "tableResultSettingsMap": {},
     "title": ""
    }
   },
   "outputs": [],
   "source": [
    "import sys\n",
    "workspace = dbutils.widgets.get('workspace')\n",
    "sys.path.insert(0, workspace)\n",
    "\n",
    "from libs.ingestao_silver import ingestao_silver\n",
    "\n",
    "from pyspark.sql.functions import col, cast, trim, when, to_date, lit"
   ]
  },
  {
   "cell_type": "code",
   "execution_count": 0,
   "metadata": {
    "application/vnd.databricks.v1+cell": {
     "cellMetadata": {
      "byteLimit": 2048000,
      "rowLimit": 10000
     },
     "inputWidgets": {},
     "nuid": "3ead5f51-211a-4150-8c43-9fe163185fb6",
     "showTitle": false,
     "tableResultSettingsMap": {},
     "title": ""
    }
   },
   "outputs": [],
   "source": [
    "catalog = 'projeto_cnpj'\n",
    "table = 'simples'\n",
    "df = spark.table(f\"{catalog}.bronze.{table}\")\n",
    "\n",
    "df= (df\n",
    "    .withColumn(\n",
    "        'opcao_pelo_simples', \n",
    "        when(trim(col('opcao_pelo_simples')) == 'N', 'Não')\n",
    "        .when(trim(col('opcao_pelo_simples')) == 'S', 'Sim')\n",
    "        .otherwise('Outros')\n",
    "    )\n",
    "    .withColumn(\n",
    "        'opcao_pelo_mei', \n",
    "        when(trim(col('opcao_pelo_mei')) == 'N', 'Não')\n",
    "        .when(trim(col('opcao_pelo_mei')) == 'S', 'Sim')\n",
    "        .otherwise('Outros')\n",
    "    )\n",
    "    .withColumn(\n",
    "        'data_opcao_pelo_simples', \n",
    "        when(trim(col('data_opcao_pelo_simples')) != '00000000', to_date(col('data_opcao_pelo_simples'), 'yyyyMMdd'))\n",
    "    )\n",
    "    .withColumn('data_exclusao_simples', \n",
    "        when(trim(col('data_exclusao_simples')) != '00000000', to_date(col('data_exclusao_simples'), 'yyyyMMdd'))\n",
    "    )\n",
    "    .withColumn('data_opcao_pelo_mei', \n",
    "        when(trim(col('data_opcao_pelo_mei')) != '00000000', to_date(col('data_opcao_pelo_mei'), 'yyyyMMdd'))\n",
    "    )\n",
    "    .withColumn('data_exclusao_mei', \n",
    "        when(trim(col('data_exclusao_mei')) != '00000000', to_date(col('data_exclusao_mei'), 'yyyyMMdd'))\n",
    "    )\n",
    "    .withColumn('data_ingestao', col('data_ingestao').cast('date'))\n",
    ")\n"
   ]
  },
  {
   "cell_type": "code",
   "execution_count": 0,
   "metadata": {
    "application/vnd.databricks.v1+cell": {
     "cellMetadata": {
      "byteLimit": 2048000,
      "rowLimit": 10000
     },
     "inputWidgets": {},
     "nuid": "50d667d9-f652-4097-a075-3659f98383b6",
     "showTitle": false,
     "tableResultSettingsMap": {},
     "title": ""
    }
   },
   "outputs": [],
   "source": [
    "ingestao_silver(\n",
    "    spark = spark,\n",
    "    df = df,\n",
    "    catalog = catalog,\n",
    "    table = table\n",
    ")"
   ]
  }
 ],
 "metadata": {
  "application/vnd.databricks.v1+notebook": {
   "computePreferences": {
    "hardware": {
     "accelerator": null,
     "gpuPoolId": null,
     "memory": null
    }
   },
   "dashboards": [],
   "environmentMetadata": {
    "base_environment": "",
    "environment_version": "3"
   },
   "inputWidgetPreferences": null,
   "language": "python",
   "notebookMetadata": {
    "pythonIndentUnit": 4
   },
   "notebookName": "silver_simples",
   "widgets": {}
  },
  "language_info": {
   "name": "python"
  }
 },
 "nbformat": 4,
 "nbformat_minor": 0
}

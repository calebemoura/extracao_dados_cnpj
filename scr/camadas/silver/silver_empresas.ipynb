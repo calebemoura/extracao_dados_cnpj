{
 "cells": [
  {
   "cell_type": "code",
   "execution_count": 0,
   "metadata": {
    "application/vnd.databricks.v1+cell": {
     "cellMetadata": {
      "byteLimit": 2048000,
      "rowLimit": 10000
     },
     "inputWidgets": {},
     "nuid": "a9693b2a-4a7b-497a-b43d-04052c54ce95",
     "showTitle": false,
     "tableResultSettingsMap": {},
     "title": ""
    }
   },
   "outputs": [],
   "source": [
    "import sys\n",
    "workspace = dbutils.widgets.get('workspace')\n",
    "sys.path.insert(0, workspace)\n",
    "\n",
    "from libs.ingestao_silver import ingestao_silver\n",
    "\n",
    "from pyspark.sql.functions import col, cast, trim, when, to_date, upper, regexp_replace"
   ]
  },
  {
   "cell_type": "code",
   "execution_count": 0,
   "metadata": {
    "application/vnd.databricks.v1+cell": {
     "cellMetadata": {
      "byteLimit": 2048000,
      "rowLimit": 10000
     },
     "inputWidgets": {},
     "nuid": "3ead5f51-211a-4150-8c43-9fe163185fb6",
     "showTitle": false,
     "tableResultSettingsMap": {},
     "title": ""
    }
   },
   "outputs": [],
   "source": [
    "catalog = 'projeto_cnpj'\n",
    "table = 'empresas'\n",
    "df = spark.table(f\"{catalog}.bronze.{table}\")\n",
    "\n",
    "df= (df\n",
    "    .withColumn('razao_social', trim(upper(col('razao_social'))))\n",
    "    .withColumn('natureza_juridica', col('natureza_juridica').cast('int'))\n",
    "    .withColumn('qualificacao_responsavel', regexp_replace(col('qualificacao_responsavel'), r'[^0-9.]', '').cast('int'))\n",
    "    .withColumn('capital_social', regexp_replace(col('capital_social'), r'[^0-9.]', '.').cast('float'))\n",
    "    .withColumn('data_ingestao', col('data_ingestao').cast('date'))\n",
    "    .withColumn('porte',\n",
    "        when(trim(col('porte')) == '05', 'Demais')\n",
    "        .when(trim(col('porte')) == '01', 'Micro Empresa')\n",
    "        .when(trim(col('porte')) == '03', 'Empresa Pequeno Porte')\n",
    "        .when(trim(col('porte')) == '00', 'Não Informado').otherwise('Outros')\n",
    "    )\n",
    ")"
   ]
  },
  {
   "cell_type": "code",
   "execution_count": 0,
   "metadata": {
    "application/vnd.databricks.v1+cell": {
     "cellMetadata": {
      "byteLimit": 2048000,
      "rowLimit": 10000
     },
     "inputWidgets": {},
     "nuid": "50d667d9-f652-4097-a075-3659f98383b6",
     "showTitle": false,
     "tableResultSettingsMap": {},
     "title": ""
    }
   },
   "outputs": [],
   "source": [
    "ingestao_silver(\n",
    "    spark = spark,\n",
    "    df = df,\n",
    "    catalog = catalog,\n",
    "    table = table\n",
    ")"
   ]
  }
 ],
 "metadata": {
  "application/vnd.databricks.v1+notebook": {
   "computePreferences": {
    "hardware": {
     "accelerator": null,
     "gpuPoolId": null,
     "memory": null
    }
   },
   "dashboards": [],
   "environmentMetadata": {
    "base_environment": "",
    "environment_version": "3"
   },
   "inputWidgetPreferences": null,
   "language": "python",
   "notebookMetadata": {
    "mostRecentlyExecutedCommandWithImplicitDF": {
     "commandId": 6018675729800796,
     "dataframes": [
      "_sqldf"
     ]
    },
    "pythonIndentUnit": 4
   },
   "notebookName": "silver_empresas",
   "widgets": {}
  },
  "language_info": {
   "name": "python"
  }
 },
 "nbformat": 4,
 "nbformat_minor": 0
}

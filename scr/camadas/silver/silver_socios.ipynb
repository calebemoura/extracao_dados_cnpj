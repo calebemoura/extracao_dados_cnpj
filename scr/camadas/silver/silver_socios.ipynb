{
 "cells": [
  {
   "cell_type": "code",
   "execution_count": 0,
   "metadata": {
    "application/vnd.databricks.v1+cell": {
     "cellMetadata": {
      "byteLimit": 2048000,
      "rowLimit": 10000
     },
     "inputWidgets": {},
     "nuid": "a9693b2a-4a7b-497a-b43d-04052c54ce95",
     "showTitle": false,
     "tableResultSettingsMap": {},
     "title": ""
    }
   },
   "outputs": [],
   "source": [
    "import sys\n",
    "workspace = dbutils.widgets.get('workspace')\n",
    "sys.path.insert(0, workspace)\n",
    "\n",
    "from libs.ingestao_silver import ingestao_silver\n",
    "\n",
    "from pyspark.sql.functions import col, cast, trim, upper, when, to_date"
   ]
  },
  {
   "cell_type": "code",
   "execution_count": 0,
   "metadata": {
    "application/vnd.databricks.v1+cell": {
     "cellMetadata": {
      "byteLimit": 2048000,
      "rowLimit": 10000
     },
     "inputWidgets": {},
     "nuid": "3ead5f51-211a-4150-8c43-9fe163185fb6",
     "showTitle": false,
     "tableResultSettingsMap": {},
     "title": ""
    }
   },
   "outputs": [],
   "source": [
    "catalog = 'projeto_cnpj'\n",
    "table = 'socios'\n",
    "df = spark.table(f\"{catalog}.bronze.{table}\")\n",
    "\n",
    "df= (df\n",
    "    .withColumn(\n",
    "        'identificador_socio', \n",
    "        when(trim(col('identificador_socio')) == '1', 'Pessoa Juridica')\n",
    "        .when(trim(col('identificador_socio')) == '2', 'Pessoa Fisica')\n",
    "        .when(trim(col('identificador_socio')) == '3', 'Estrangeiro')\n",
    "        .otherwise('Outros')\n",
    "    )\n",
    "    .withColumn('nome_socio', upper(trim(col('nome_socio'))))\n",
    "    .withColumn('qualificacao_socio', col('qualificacao_socio').cast('int'))\n",
    "    .withColumn('data_entrada', to_date(col('data_entrada'), 'yyyyMMdd'))\n",
    "    .withColumn('qualificacao_representante', col('qualificacao_representante').cast('int'))\n",
    "    .withColumn('faixa_etaria', col('faixa_etaria').cast('int'))\n",
    "    .withColumn('data_ingestao', col('data_ingestao').cast('date'))\n",
    ")\n"
   ]
  },
  {
   "cell_type": "code",
   "execution_count": 0,
   "metadata": {
    "application/vnd.databricks.v1+cell": {
     "cellMetadata": {
      "byteLimit": 2048000,
      "rowLimit": 10000
     },
     "inputWidgets": {},
     "nuid": "50d667d9-f652-4097-a075-3659f98383b6",
     "showTitle": false,
     "tableResultSettingsMap": {},
     "title": ""
    }
   },
   "outputs": [],
   "source": [
    "ingestao_silver(\n",
    "    spark = spark,\n",
    "    df = df,\n",
    "    catalog = catalog,\n",
    "    table = table\n",
    ")"
   ]
  }
 ],
 "metadata": {
  "application/vnd.databricks.v1+notebook": {
   "computePreferences": {
    "hardware": {
     "accelerator": null,
     "gpuPoolId": null,
     "memory": null
    }
   },
   "dashboards": [],
   "environmentMetadata": {
    "base_environment": "",
    "environment_version": "3"
   },
   "inputWidgetPreferences": null,
   "language": "python",
   "notebookMetadata": {
    "pythonIndentUnit": 4
   },
   "notebookName": "silver_socios",
   "widgets": {}
  },
  "language_info": {
   "name": "python"
  }
 },
 "nbformat": 4,
 "nbformat_minor": 0
}

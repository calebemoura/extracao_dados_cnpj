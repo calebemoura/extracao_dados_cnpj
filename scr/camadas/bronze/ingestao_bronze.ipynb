{
 "cells": [
  {
   "cell_type": "code",
   "execution_count": 0,
   "metadata": {
    "application/vnd.databricks.v1+cell": {
     "cellMetadata": {
      "byteLimit": 2048000,
      "rowLimit": 10000
     },
     "inputWidgets": {},
     "nuid": "f6ec9d35-cda0-4d1f-8a4f-491a67c3a699",
     "showTitle": false,
     "tableResultSettingsMap": {},
     "title": ""
    }
   },
   "outputs": [],
   "source": [
    "import sys\n",
    "workspace = dbutils.widgets.get('workspace')\n",
    "sys.path.insert(0, f\"{workspace}scr/\")\n",
    "\n",
    "from libs.rename_columns import *\n",
    "from libs.create_bronze_table import create_table\n",
    "from datetime import datetime\n",
    "from pyspark.sql.functions import lit"
   ]
  },
  {
   "cell_type": "code",
   "execution_count": 0,
   "metadata": {
    "application/vnd.databricks.v1+cell": {
     "cellMetadata": {
      "byteLimit": 2048000,
      "rowLimit": 10000
     },
     "inputWidgets": {},
     "nuid": "b37ff6d4-dab2-4f56-8da7-544559d8ad15",
     "showTitle": false,
     "tableResultSettingsMap": {},
     "title": ""
    }
   },
   "outputs": [],
   "source": [
    "path_source = dbutils.widgets.get('path_source')\n",
    "catalog = dbutils.widgets.get('catalog')\n",
    "schema  = dbutils.widgets.get('schema')\n",
    "tables  = ['cnaes', 'empresas', 'estabelecimentos', 'socios', 'motivos', 'municipios', 'naturezas', 'paises', 'qualificacoes', 'simples']"
   ]
  },
  {
   "cell_type": "code",
   "execution_count": 0,
   "metadata": {
    "application/vnd.databricks.v1+cell": {
     "cellMetadata": {
      "byteLimit": 2048000,
      "rowLimit": 10000
     },
     "inputWidgets": {},
     "nuid": "e0c14c81-e227-4d21-9345-e7a5bee32ebf",
     "showTitle": false,
     "tableResultSettingsMap": {},
     "title": ""
    }
   },
   "outputs": [],
   "source": [
    "list_folders = dbutils.fs.ls(path_source)\n",
    "\n",
    "if len(list_folders) < 2:\n",
    "    print('Arquivos não existentes')\n",
    "else:\n",
    "    for table in tables:\n",
    "        # Criando tabela se ela não existir\n",
    "        create_table(\n",
    "            spark=spark, \n",
    "            catalog=catalog, \n",
    "            schema=schema, \n",
    "            table=table\n",
    "        )\n",
    "\n",
    "        # realizando a leitura dos arquivos e criando um df spark\n",
    "        df = (spark.read\n",
    "            .option('delimiter', ';')\n",
    "            .option('header', False)\n",
    "            .option('inferSchema', False)\n",
    "            .option('encoding', 'latin1')\n",
    "            .csv(f\"{path_source}/{table}*\")\n",
    "        )\n",
    "\n",
    "        table_columns = eval(table)\n",
    "\n",
    "        # Renomear as colunas\n",
    "        for old, new in table_columns.items():\n",
    "            df = df.withColumnRenamed(old, new)\n",
    "\n",
    "        # Adicionando uma coluna com o nome da tabela\n",
    "        df = df.withColumn('data_ingestao', lit(datetime.today().date()))\n",
    "\n",
    "        # Escrevendo em formato delta\n",
    "        (df.write\n",
    "            .mode('overwrite')\n",
    "            .format('delta')\n",
    "            .option(\"mergeSchema\", \"true\")\n",
    "            .saveAsTable(f\"{catalog}.{schema}.{table}\")\n",
    "        )\n",
    "\n",
    "        print(f\"{table} populada com sucesso\")\n",
    "\n",
    "    # Limpando os arquivos da pasta\n",
    "    for file in list_folders:\n",
    "        if file.name != 'temp/':\n",
    "            dbutils.fs.rm(f\"{path_source}/{file.name}\", True)\n"
   ]
  }
 ],
 "metadata": {
  "application/vnd.databricks.v1+notebook": {
   "computePreferences": {
    "hardware": {
     "accelerator": null,
     "gpuPoolId": null,
     "memory": "HIGH"
    }
   },
   "dashboards": [],
   "environmentMetadata": {
    "base_environment": "",
    "environment_version": "3"
   },
   "inputWidgetPreferences": null,
   "language": "python",
   "notebookMetadata": {
    "pythonIndentUnit": 4
   },
   "notebookName": "ingestao_bronze",
   "widgets": {}
  },
  "language_info": {
   "name": "python"
  }
 },
 "nbformat": 4,
 "nbformat_minor": 0
}

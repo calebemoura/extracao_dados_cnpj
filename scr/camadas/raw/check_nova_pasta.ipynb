{
 "cells": [
  {
   "cell_type": "code",
   "execution_count": 0,
   "metadata": {
    "application/vnd.databricks.v1+cell": {
     "cellMetadata": {
      "byteLimit": 2048000,
      "rowLimit": 10000
     },
     "inputWidgets": {},
     "nuid": "c190c070-58bf-450f-b18c-d035eaa21d4c",
     "showTitle": false,
     "tableResultSettingsMap": {},
     "title": ""
    }
   },
   "outputs": [],
   "source": [
    "import sys\n",
    "workspace = dbutils.widgets.get('workspace')\n",
    "sys.path.insert(0, workspace)\n",
    "\n",
    "from libs.create_log_table import create_table\n",
    "\n",
    "from datetime import datetime, timedelta"
   ]
  },
  {
   "cell_type": "code",
   "execution_count": 0,
   "metadata": {
    "application/vnd.databricks.v1+cell": {
     "cellMetadata": {
      "byteLimit": 2048000,
      "rowLimit": 10000
     },
     "inputWidgets": {},
     "nuid": "af36c587-b40d-487b-8d01-87899bc42a49",
     "showTitle": false,
     "tableResultSettingsMap": {},
     "title": ""
    }
   },
   "outputs": [],
   "source": [
    "# criando um variavel widget\n",
    "dbutils.widgets.text('status', '')\n",
    "\n",
    "# lendo a variavel widget\n",
    "_status = dbutils.widgets.get('status')"
   ]
  },
  {
   "cell_type": "code",
   "execution_count": 0,
   "metadata": {
    "application/vnd.databricks.v1+cell": {
     "cellMetadata": {
      "byteLimit": 2048000,
      "rowLimit": 10000
     },
     "inputWidgets": {},
     "nuid": "8747948a-1472-4f3a-8a87-8090bfeb6f4a",
     "showTitle": false,
     "tableResultSettingsMap": {},
     "title": ""
    }
   },
   "outputs": [],
   "source": [
    "create_table(\n",
    "    spark = spark,\n",
    "    catalog = 'projeto_cnpj',\n",
    "    schema = 'admin',\n",
    "    table='logs_extracao'\n",
    ")\n",
    "\n",
    "mes = (datetime.today() - timedelta(days=20)).strftime('%Y-%m')\n",
    "count = spark.sql(f\"\"\"\n",
    "            SELECT codigo\n",
    "            FROM projeto_cnpj.admin.logs_extracao\n",
    "            WHERE codigo = '{mes}'\n",
    "            \"\"\"\n",
    "        ).count()\n",
    "_status = str(count)\n",
    "dbutils.jobs.taskValues.set('status', _status)"
   ]
  }
 ],
 "metadata": {
  "application/vnd.databricks.v1+notebook": {
   "computePreferences": null,
   "dashboards": [],
   "environmentMetadata": {
    "base_environment": "",
    "environment_version": "3"
   },
   "inputWidgetPreferences": null,
   "language": "python",
   "notebookMetadata": {
    "pythonIndentUnit": 4
   },
   "notebookName": "check_nova_pasta",
   "widgets": {}
  },
  "language_info": {
   "name": "python"
  }
 },
 "nbformat": 4,
 "nbformat_minor": 0
}

{
 "cells": [
  {
   "cell_type": "code",
   "execution_count": 0,
   "metadata": {
    "application/vnd.databricks.v1+cell": {
     "cellMetadata": {
      "byteLimit": 2048000,
      "rowLimit": 10000
     },
     "inputWidgets": {},
     "nuid": "ada1670b-4bc3-4812-8eb8-8672f882a3fa",
     "showTitle": false,
     "tableResultSettingsMap": {},
     "title": ""
    }
   },
   "outputs": [],
   "source": [
    "# Instalando o lxml para processamento do HTML\n",
    "%pip install lxml==6.0.1"
   ]
  },
  {
   "cell_type": "code",
   "execution_count": 0,
   "metadata": {
    "application/vnd.databricks.v1+cell": {
     "cellMetadata": {
      "byteLimit": 2048000,
      "rowLimit": 10000
     },
     "inputWidgets": {},
     "nuid": "46e05fce-6f82-4c19-9ed8-4d3da2b407e8",
     "showTitle": false,
     "tableResultSettingsMap": {},
     "title": ""
    }
   },
   "outputs": [],
   "source": [
    "# Importação das bibliotecas necessárias\n",
    "from requests import get\n",
    "from lxml import etree\n",
    "from urllib.request import urlretrieve\n",
    "from datetime import datetime, timedelta\n",
    "from zipfile import ZipFile\n",
    "import pytz\n",
    "\n",
    "import sys\n",
    "workspace = dbutils.widgets.get('workspace')\n",
    "sys.path.insert(0, workspace)\n",
    "\n",
    "from libs.create_log_table import create_table\n",
    "\n",
    "myparser = etree.HTMLParser(encoding='utf-8')"
   ]
  },
  {
   "cell_type": "code",
   "execution_count": 0,
   "metadata": {
    "application/vnd.databricks.v1+cell": {
     "cellMetadata": {
      "byteLimit": 2048000,
      "rowLimit": 10000
     },
     "inputWidgets": {},
     "nuid": "168f178e-56e5-46a2-a50c-6a9a9d40c5a0",
     "showTitle": false,
     "tableResultSettingsMap": {},
     "title": ""
    }
   },
   "outputs": [],
   "source": [
    "def inserts_log(\n",
    "    pasta: str,\n",
    "    inicio: datetime,\n",
    "    fim: datetime,\n",
    "    descricao: str = None,\n",
    "    observacao: str = None):\n",
    "    \n",
    "    # Criando a tabela caso não exista\n",
    "    create_table(\n",
    "        spark=spark, \n",
    "        catalog='projeto_cnpj', \n",
    "        schema='admin'\n",
    "    )\n",
    "\n",
    "    # String de insercao\n",
    "    sql = f'''\n",
    "        INSERT INTO projeto_cnpj.admin.logs_extracao(codigo, inicio, fim, descricao, observacao)\n",
    "        VALUES ('{pasta}', '{inicio}', '{fim}', '{descricao}', '{observacao}')\n",
    "        '''\n",
    "    spark.sql(sql)\n",
    "\n",
    "\n",
    "def processamento_html(html) -> list:\n",
    "    # Processando o HTML e buscando os arquivos zip\n",
    "    tree = etree.HTML(html, parser=myparser)\n",
    "    for link in tree.xpath('//table'):\n",
    "        folders = [f for f in link.xpath('./tr/td/a/@href') if f.endswith('.zip')]\n",
    "    return folders\n",
    "\n",
    "def download_folders(\n",
    "    url_base: str, \n",
    "    mes: str, \n",
    "    path_source: str, \n",
    "    folders: list):\n",
    "\n",
    "    # Realizando o download dos arquivos\n",
    "    for folder in folders:\n",
    "        url = f\"{url_base}{mes}/{folder}\"\n",
    "        print(url)\n",
    "        urlretrieve(url, f\"{path_source}/{folder}\")\n",
    "\n",
    "def unzip_files(path_source: str, path_destination: str):\n",
    "    paths = dbutils.fs.ls(path_source)\n",
    "\n",
    "    # Descompactando os arquivos\n",
    "    for path in paths:\n",
    "        with ZipFile(f\"{path_source}/{path.name}\", 'r') as zipObj:\n",
    "            zipObj.extractall(f\"{path_destination}/{path.name.split('.')[0].lower()}\")\n",
    "\n",
    "        # Excluindo os arquivos compactados logo após descompactação\n",
    "        dbutils.fs.rm(f\"{path_source}/{path.name}\", True)"
   ]
  },
  {
   "cell_type": "code",
   "execution_count": 0,
   "metadata": {
    "application/vnd.databricks.v1+cell": {
     "cellMetadata": {
      "byteLimit": 2048000,
      "rowLimit": 10000
     },
     "inputWidgets": {},
     "nuid": "75b94e49-dbc3-4477-8714-7de5cb6a15ce",
     "showTitle": false,
     "tableResultSettingsMap": {},
     "title": ""
    }
   },
   "outputs": [],
   "source": [
    "\n",
    "# Caminhos onde os arquivos serão baixados e descompactados\n",
    "path_source = dbutils.widgets.get('path_source')  # arquivos compactados zip\n",
    "path_destination = dbutils.widgets.get('path_destination') # Arquivos descompactados\n",
    "\n",
    "url_base = 'https://arquivos.receitafederal.gov.br/dados/cnpj/dados_abertos_cnpj/'\n",
    "headers = {\n",
    "    'User-Agent':'Mozilla/5.0 (Windows NT 10.0; Win64; x64) AppleWebKit/537.36 (KHTML, like Gecko) Chrome/140.0.0.0 Safari/537.36 Edg/140.0.0.0',\n",
    "    'accept-encoding':'gzip, deflate, br, zstd'\n",
    "}\n",
    "\n",
    "mes = (datetime.today() - timedelta(days=20)).strftime('%Y-%m')\n",
    "\n",
    "brasil_tz = pytz.timezone(\"America/Sao_Paulo\")\n",
    "\n",
    "inicio = datetime.now(brasil_tz)\n",
    "\n",
    "# Realizando a requisição\n",
    "requisicao = get(url=f\"{url_base}{mes}\", headers=headers)\n",
    "\n",
    "html = requisicao.content\n",
    "folders = processamento_html(html)\n",
    "download_folders(url_base, mes, path_source, folders)\n",
    "unzip_files(path_source, path_destination)\n",
    "\n",
    "fim = datetime.now(brasil_tz)\n",
    "\n",
    "# Inserindo o log\n",
    "inserts_log(\n",
    "    pasta=mes,\n",
    "    inicio=inicio.strftime('%Y-%m-%d %H:%M:%S'),\n",
    "    fim=fim.strftime('%Y-%m-%d %H:%M:%S'),\n",
    "    descricao='Processo de extração dos dados do CNPJ no site da Receita Federal',\n",
    "    observacao=f\"{url_base}{mes}\"\n",
    ")"
   ]
  }
 ],
 "metadata": {
  "application/vnd.databricks.v1+notebook": {
   "computePreferences": {
    "hardware": {
     "accelerator": null,
     "gpuPoolId": null,
     "memory": null
    }
   },
   "dashboards": [],
   "environmentMetadata": {
    "base_environment": "",
    "environment_version": "3"
   },
   "inputWidgetPreferences": null,
   "language": "python",
   "notebookMetadata": {
    "pythonIndentUnit": 4,
    "widgetLayout": []
   },
   "notebookName": "extracao_dados_brutos",
   "widgets": {}
  },
  "language_info": {
   "name": "python"
  }
 },
 "nbformat": 4,
 "nbformat_minor": 0
}
